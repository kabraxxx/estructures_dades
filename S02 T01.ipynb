{
 "cells": [
  {
   "cell_type": "markdown",
   "id": "bd841484",
   "metadata": {},
   "source": [
    "# S02 T01: Estructura de dades #"
   ]
  },
  {
   "cell_type": "markdown",
   "id": "47b4545c",
   "metadata": {},
   "source": [
    "Comencem a familiaritzar-nos amb les estructures de dades de Python"
   ]
  },
  {
   "cell_type": "markdown",
   "id": "283d62fc",
   "metadata": {},
   "source": [
    "## Nivell 1 ##"
   ]
  },
  {
   "cell_type": "markdown",
   "id": "8851d4c4",
   "metadata": {},
   "source": [
    "### - Exercici 1 ###"
   ]
  },
  {
   "cell_type": "markdown",
   "id": "bc256633",
   "metadata": {},
   "source": [
    "Crea una llista que agrupi els mesos de l’any en trimestres (1T: Gener, Febrer i Març, 2T: Abril, Maig, Juny...), és a dir, una llista amb 4 llistes dins."
   ]
  },
  {
   "cell_type": "code",
   "execution_count": 4,
   "id": "73ee1fb8",
   "metadata": {},
   "outputs": [
    {
     "name": "stdout",
     "output_type": "stream",
     "text": [
      "[['Gener', 'Febrer', 'Març'], ['Abril', 'Maig', 'Juny'], ['Juliol', 'Agost', 'Setembre'], ['Octubre', 'Novembre', 'Desembre']]\n"
     ]
    }
   ],
   "source": [
    "MesosDeAny = [[\"Gener\", \"Febrer\", \"Març\"],\n",
    "              [\"Abril\", \"Maig\", \"Juny\"],\n",
    "              [\"Juliol\", \"Agost\", \"Setembre\"],\n",
    "              [\"Octubre\", \"Novembre\", \"Desembre\"]]\n",
    "print(MesosDeAny)"
   ]
  },
  {
   "cell_type": "markdown",
   "id": "853b47df",
   "metadata": {},
   "source": [
    "### - Exercici 2 ###"
   ]
  },
  {
   "cell_type": "markdown",
   "id": "32d643d2",
   "metadata": {},
   "source": [
    "Crea un codi que et permeti accedir a:\n",
    "\n",
    "* El segon mes del primer trimestre\n",
    "* Els mesos del primer trimestre\n",
    "* Setembre i octubre"
   ]
  },
  {
   "cell_type": "code",
   "execution_count": 19,
   "id": "0b3e1396",
   "metadata": {},
   "outputs": [
    {
     "name": "stdout",
     "output_type": "stream",
     "text": [
      "El segon mes del primer trimestre:  Febrer\n",
      "Els mesos del primer trimestre: Gener, Febrer, Març\n",
      "Setembre y Octubre\n"
     ]
    }
   ],
   "source": [
    "print(\"El segon mes del primer trimestre: \" , MesosDeAny[0][1])\n",
    "print(\"Els mesos del primer trimestre: {}, {}, {}\".format(MesosDeAny[0][0], MesosDeAny[0][1], MesosDeAny[0][2]))\n",
    "print(MesosDeAny[2][2], \"y\" , MesosDeAny[3][0])"
   ]
  },
  {
   "cell_type": "markdown",
   "id": "d0ed6ada",
   "metadata": {},
   "source": [
    "### - Exercici 3 ###"
   ]
  },
  {
   "cell_type": "markdown",
   "id": "5c8bdfe6",
   "metadata": {},
   "source": [
    "Crea una llista amb nombres desordenats i respon a les següents preguntes:"
   ]
  },
  {
   "cell_type": "code",
   "execution_count": 5,
   "id": "4f70b7cb",
   "metadata": {},
   "outputs": [
    {
     "name": "stdout",
     "output_type": "stream",
     "text": [
      "[3, 4, 4, 6, 2, 8, 1]\n"
     ]
    }
   ],
   "source": [
    "numbers = [3, 4, 4, 6, 2, 8, 1]\n",
    "print(numbers)"
   ]
  },
  {
   "cell_type": "markdown",
   "id": "f2e6aead",
   "metadata": {},
   "source": [
    "* Quants números hi ha?"
   ]
  },
  {
   "cell_type": "code",
   "execution_count": 6,
   "id": "afd4da88",
   "metadata": {},
   "outputs": [
    {
     "name": "stdout",
     "output_type": "stream",
     "text": [
      "7\n"
     ]
    }
   ],
   "source": [
    "print(len(numbers))"
   ]
  },
  {
   "cell_type": "markdown",
   "id": "ad19d401",
   "metadata": {},
   "source": [
    "* Quantes vegades apareix el número 3"
   ]
  },
  {
   "cell_type": "code",
   "execution_count": 15,
   "id": "e8f570ec",
   "metadata": {},
   "outputs": [
    {
     "name": "stdout",
     "output_type": "stream",
     "text": [
      "1\n"
     ]
    }
   ],
   "source": [
    "times = 0\n",
    "for x in numbers:\n",
    "    if 2 == x:\n",
    "        times += 1\n",
    "print(times)"
   ]
  },
  {
   "cell_type": "markdown",
   "id": "eea04c37",
   "metadata": {},
   "source": [
    "* Quantes vegades apareixen els nombres 3 i 4?"
   ]
  },
  {
   "cell_type": "code",
   "execution_count": 9,
   "id": "bcd2ed33",
   "metadata": {},
   "outputs": [
    {
     "name": "stdout",
     "output_type": "stream",
     "text": [
      "El numero 3 apareix: 1 vegades.\n",
      "El numero 4 apareix: 2 vegades.\n"
     ]
    }
   ],
   "source": [
    "timesA = 0\n",
    "timesB = 0\n",
    "for x in numbers:\n",
    "    if 3 == x:\n",
    "        timesA += 1\n",
    "    if 4 == x:\n",
    "        timesB += 1\n",
    "print(\"El numero 3 apareix:\", timesA, \"vegades.\")\n",
    "print(\"El numero 4 apareix:\", timesB, \"vegades.\")"
   ]
  },
  {
   "cell_type": "markdown",
   "id": "25f91722",
   "metadata": {},
   "source": [
    "* Quin és el número més gran?"
   ]
  },
  {
   "cell_type": "code",
   "execution_count": 10,
   "id": "46ec283e",
   "metadata": {},
   "outputs": [
    {
     "name": "stdout",
     "output_type": "stream",
     "text": [
      "El numero més gran es: 8\n"
     ]
    }
   ],
   "source": [
    "numbers.sort()\n",
    "print(\"El numero més gran es:\", numbers[len(numbers)-1])"
   ]
  },
  {
   "cell_type": "markdown",
   "id": "02650a07",
   "metadata": {},
   "source": [
    "* Quins són els 3 numeros més petits?"
   ]
  },
  {
   "cell_type": "code",
   "execution_count": 11,
   "id": "f97e4a40",
   "metadata": {},
   "outputs": [
    {
     "name": "stdout",
     "output_type": "stream",
     "text": [
      "Els 3 numeros més petits son: 1, 2 y 3\n"
     ]
    }
   ],
   "source": [
    "print(\"Els 3 numeros més petits son: {}, {} y {}\".format(numbers[0],numbers[1],numbers[2]))"
   ]
  },
  {
   "cell_type": "markdown",
   "id": "c15d3cd8",
   "metadata": {},
   "source": [
    "* Quin és el rang d’aquesta llista?"
   ]
  },
  {
   "cell_type": "code",
   "execution_count": 13,
   "id": "468bf467",
   "metadata": {},
   "outputs": [
    {
     "name": "stdout",
     "output_type": "stream",
     "text": [
      "El rang de la llista es del 0 al 6.\n"
     ]
    }
   ],
   "source": [
    "print(\"El rang de la llista es del {} al {}.\".format(numbers.index(numbers[0]), numbers.index(numbers[len(numbers)-1])))"
   ]
  },
  {
   "cell_type": "markdown",
   "id": "cb6f9683",
   "metadata": {},
   "source": [
    "### - Exercici 4 ###"
   ]
  },
  {
   "cell_type": "markdown",
   "id": "ea3fffbf",
   "metadata": {},
   "source": [
    "Crea un diccionari de la següent forma i respon a les preguntes:\n",
    "\n",
    "compra = { \"Pomes\" : {\"Qty\": 5, \"€\": 0.42}, \"Peres\" : {\"Qty\": 3, \"€\": 0.66} }"
   ]
  },
  {
   "cell_type": "code",
   "execution_count": 25,
   "id": "060b94b3",
   "metadata": {},
   "outputs": [
    {
     "name": "stdout",
     "output_type": "stream",
     "text": [
      "{'Pomes': {'Qty': 5, '€': 0.42}, 'Peres': {'Qty': 3, '€': 0.66}}\n"
     ]
    }
   ],
   "source": [
    "compra = { \n",
    "    \"Pomes\" : {\n",
    "        \"Qty\": 5, \n",
    "        \"€\": 0.42\n",
    "        }, \n",
    "    \"Peres\" : {\n",
    "        \"Qty\": 3, \n",
    "        \"€\": 0.66\n",
    "        } \n",
    "    }\n",
    "print(compra)"
   ]
  },
  {
   "cell_type": "markdown",
   "id": "646325a7",
   "metadata": {},
   "source": [
    "* Afegeix alguna fruita més"
   ]
  },
  {
   "cell_type": "code",
   "execution_count": 27,
   "id": "407e1c87",
   "metadata": {},
   "outputs": [
    {
     "name": "stdout",
     "output_type": "stream",
     "text": [
      "{'Pomes': {'Qty': 5, '€': 0.42}, 'Peres': {'Qty': 3, '€': 0.66}, 'Platans': {'Qty': 6, '€': 0.18}}\n"
     ]
    }
   ],
   "source": [
    "compra[\"Platans\"] = {\n",
    "        \"Qty\": 6, \n",
    "        \"€\": 0.18\n",
    "        }\n",
    "print(compra)"
   ]
  },
  {
   "cell_type": "markdown",
   "id": "ec454853",
   "metadata": {},
   "source": [
    "* Quant han costat les peres en total?"
   ]
  },
  {
   "cell_type": "code",
   "execution_count": 29,
   "id": "6e39d43d",
   "metadata": {},
   "outputs": [
    {
     "name": "stdout",
     "output_type": "stream",
     "text": [
      "Les peres han costat:  1.98 €\n"
     ]
    }
   ],
   "source": [
    "costTotalPeres = compra.get(\"Peres\").get(\"Qty\") * compra.get(\"Peres\").get(\"€\")\n",
    "print(\"Les peres han costat: \",costTotalPeres, \"€\")"
   ]
  },
  {
   "cell_type": "markdown",
   "id": "8f56fddd",
   "metadata": {},
   "source": [
    "* Quantes fruites hem comprat en total?"
   ]
  },
  {
   "cell_type": "code",
   "execution_count": 30,
   "id": "93bafbca",
   "metadata": {},
   "outputs": [
    {
     "name": "stdout",
     "output_type": "stream",
     "text": [
      "Hem comprat 14 fruites\n"
     ]
    }
   ],
   "source": [
    "quantitat = 0\n",
    "for x in compra:\n",
    "  quantitat+= compra.get(x).get(\"Qty\")\n",
    "print(\"Hem comprat\",quantitat, \"fruites\")"
   ]
  },
  {
   "cell_type": "markdown",
   "id": "b8f70ff1",
   "metadata": {},
   "source": [
    "* Quina és la fruita més cara?"
   ]
  },
  {
   "cell_type": "code",
   "execution_count": 31,
   "id": "fd6f8396",
   "metadata": {},
   "outputs": [
    {
     "name": "stdout",
     "output_type": "stream",
     "text": [
      "La fruita més cara es: Peres\n"
     ]
    }
   ],
   "source": [
    "fruitaMesCara = None\n",
    "for key, value in compra.items():\n",
    "    if (fruitaMesCara is None or value.get(\"€\") > preuFruitaMesCara):\n",
    "        preuFruitaMesCara = value.get(\"€\")\n",
    "        fruitaMesCara = key\n",
    "print('La fruita més cara es:', fruitaMesCara)"
   ]
  }
 ],
 "metadata": {
  "kernelspec": {
   "display_name": "Python 3 (ipykernel)",
   "language": "python",
   "name": "python3"
  },
  "language_info": {
   "codemirror_mode": {
    "name": "ipython",
    "version": 3
   },
   "file_extension": ".py",
   "mimetype": "text/x-python",
   "name": "python",
   "nbconvert_exporter": "python",
   "pygments_lexer": "ipython3",
   "version": "3.9.12"
  },
  "latex_envs": {
   "LaTeX_envs_menu_present": true,
   "autoclose": false,
   "autocomplete": true,
   "bibliofile": "biblio.bib",
   "cite_by": "apalike",
   "current_citInitial": 1,
   "eqLabelWithNumbers": true,
   "eqNumInitial": 1,
   "hotkeys": {
    "equation": "Ctrl-E",
    "itemize": "Ctrl-I"
   },
   "labels_anchors": false,
   "latex_user_defs": false,
   "report_style_numbering": false,
   "user_envs_cfg": false
  }
 },
 "nbformat": 4,
 "nbformat_minor": 5
}
